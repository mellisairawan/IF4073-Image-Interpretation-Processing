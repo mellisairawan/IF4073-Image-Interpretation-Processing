{
 "cells": [
  {
   "cell_type": "code",
   "execution_count": 1,
   "metadata": {},
   "outputs": [],
   "source": [
    "from helper import *"
   ]
  },
  {
   "cell_type": "code",
   "execution_count": 2,
   "metadata": {},
   "outputs": [
    {
     "name": "stderr",
     "output_type": "stream",
     "text": [
      "YOLOv5  v7.0-8-g350e8eb Python-3.8.0 torch-1.13.0+cpu CPU\n",
      "\n",
      "Fusing layers... \n",
      "custom_YOLOv5m summary: 182 layers, 7249215 parameters, 0 gradients\n",
      "Adding AutoShape... \n"
     ]
    }
   ],
   "source": [
    "model = load_model('yolov5','best.pt')\n",
    "filename = 'test2.jpg'\n",
    "infer(model,filename)\n",
    "plates = extract_plate_number()\n",
    "create_show_img(filename)"
   ]
  },
  {
   "cell_type": "code",
   "execution_count": 4,
   "metadata": {},
   "outputs": [
    {
     "name": "stdout",
     "output_type": "stream",
     "text": [
      "['G 1023 XX']\n"
     ]
    }
   ],
   "source": [
    "print(plates)"
   ]
  },
  {
   "cell_type": "code",
   "execution_count": null,
   "metadata": {},
   "outputs": [],
   "source": []
  }
 ],
 "metadata": {
  "kernelspec": {
   "display_name": "Python 3 (ipykernel)",
   "language": "python",
   "name": "python3"
  },
  "language_info": {
   "codemirror_mode": {
    "name": "ipython",
    "version": 3
   },
   "file_extension": ".py",
   "mimetype": "text/x-python",
   "name": "python",
   "nbconvert_exporter": "python",
   "pygments_lexer": "ipython3",
   "version": "3.8.0"
  },
  "vscode": {
   "interpreter": {
    "hash": "4e821d830274277902dd6c96f587182c3157f3feefed1525b582868478f4baf1"
   }
  }
 },
 "nbformat": 4,
 "nbformat_minor": 2
}
